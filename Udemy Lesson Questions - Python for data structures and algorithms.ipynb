{
 "cells": [
  {
   "cell_type": "markdown",
   "metadata": {},
   "source": [
    "## Anagram Check"
   ]
  },
  {
   "cell_type": "markdown",
   "metadata": {},
   "source": [
    "#### Pass two words and check if they are anagrams "
   ]
  },
  {
   "cell_type": "code",
   "execution_count": null,
   "metadata": {},
   "outputs": [],
   "source": [
    "def anagram_check(word1, word2):\n",
    "\n",
    "    ## Standardize words by standardizing case and replacing spaces\n",
    "    word1 = word1.replace(\" \",\"\").lower()\n",
    "    word2 = word2.replace(\" \",\"\").lower()\n",
    "    \n",
    "    ## Create two list that contain each letter in a word\n",
    "    letter_list_1 = list([word1[i] for i in range(len(word1))])\n",
    "    letter_list_2 = list([word2[i] for i in range(len(word2))])\n",
    "    \n",
    "    ## If the amount of letters are not equal, exit loop\n",
    "    if len(letter_list_1) != len(letter_list_2):\n",
    "        return False\n",
    "    else:\n",
    "        for i in range(len(letter_list_1)):\n",
    "            ## If a letter from list 1 is found in list 2, remove element\n",
    "            if letter_list_1[i] in letter_list_2:\n",
    "                letter_list_2.pop(letter_list_2.index(letter_list_1[i]))\n",
    "            else:\n",
    "                return False\n",
    "                break\n",
    "                \n",
    "    ## If all letters are removed, return True\n",
    "    if len(letter_list_2) == 0:\n",
    "        return True\n",
    "            "
   ]
  },
  {
   "cell_type": "code",
   "execution_count": null,
   "metadata": {},
   "outputs": [],
   "source": [
    "from nose.tools import assert_equal\n",
    "\n",
    "class AnagramTest(object):\n",
    "    \n",
    "    def test(self,sol):\n",
    "        assert_equal(sol('go go go','gggooo'),True)\n",
    "        assert_equal(sol('abc','cba'),True)\n",
    "        assert_equal(sol('hi man','hi     man'),True)\n",
    "        assert_equal(sol('aabbcc','aabbc'),False)\n",
    "        assert_equal(sol('123','1 2'),False)\n",
    "        print('ALL TEST CASES PASSED')\n",
    "\n",
    "# Run Tests\n",
    "t = AnagramTest()\n",
    "t.test(anagram_check)"
   ]
  },
  {
   "cell_type": "markdown",
   "metadata": {},
   "source": [
    "## Array Pair Sum"
   ]
  },
  {
   "cell_type": "markdown",
   "metadata": {},
   "source": [
    "#### Create a function that finds all unique pairs that sum up to the provided number."
   ]
  },
  {
   "cell_type": "code",
   "execution_count": null,
   "metadata": {},
   "outputs": [],
   "source": [
    "def array_pair(val_list, final_sum):\n",
    "    \n",
    "    unique_pairs = []\n",
    "    \n",
    "    ## For each value in the value_list, add to each other value to test if the pair \n",
    "    ## equals our final_sum variable. Matches are appended to our unique pair list.\n",
    "    \n",
    "    for i in range(len(val_list)):\n",
    "        for j in range(len(val_list)):\n",
    "            if i == j:\n",
    "                pass\n",
    "            elif val_list[i] + val_list[j] == final_sum:\n",
    "                ## Place the values in ascending order - this helps identify \n",
    "                ## that (1,3) is the same as (3,1) in the next loop.\n",
    "                if val_list[i] < val_list[j]:\n",
    "                    unique_pairs.append([val_list[i],val_list[j]])\n",
    "                else:\n",
    "                    unique_pairs.append([val_list[j],val_list[i]])\n",
    "    \n",
    "    ## For each element in unique_pairs, compare to each other value \n",
    "    ##in unique_pairs and remove duplicates\n",
    "                    \n",
    "    for i in unique_pairs:\n",
    "        for j in unique_pairs: \n",
    "            if i == j:\n",
    "                unique_pairs.remove(j)\n",
    "            else:\n",
    "                pass\n",
    "                   \n",
    "    return len(unique_pairs)"
   ]
  },
  {
   "cell_type": "code",
   "execution_count": null,
   "metadata": {},
   "outputs": [],
   "source": [
    "class TestPair(object):\n",
    "    \n",
    "    def test(self,sol):\n",
    "        assert_equal(sol([1,9,2,8,3,7,4,6,5,5,13,14,11,13,-1],10),6)\n",
    "        assert_equal(sol([1,2,3,1],3),1)\n",
    "        assert_equal(sol([1,3,2,2],4),2)\n",
    "        print('ALL TEST CASES PASSED')\n",
    "        \n",
    "#Run tests\n",
    "t = TestPair()\n",
    "t.test(array_pair)\n",
    "    "
   ]
  },
  {
   "cell_type": "markdown",
   "metadata": {},
   "source": [
    "## Missing Element Finder"
   ]
  },
  {
   "cell_type": "markdown",
   "metadata": {},
   "source": [
    "#### Compare two lists and find the missing element"
   ]
  },
  {
   "cell_type": "code",
   "execution_count": null,
   "metadata": {},
   "outputs": [],
   "source": [
    "## Avoiding using the more simple set analysis: set(list_1) - set(list_2)\n",
    "\n",
    "def finder(list_1, list_2):\n",
    "    if len(list_1) > len(list_2):\n",
    "        print(list_1)\n",
    "        print(list_2)\n",
    "        print(\"--------\")\n",
    "        \n",
    "        for i in range(len(list_1)):\n",
    "            print(\"looking for \" + str(list_1[i]))\n",
    "            if list_1[i] in list_2:\n",
    "                print(\"removing value from list 1: \" + str(list_1.index(list_1[i])))\n",
    "                print(\"removing value from list 2: \" + str(list_2.index(list_1[i])))\n",
    "                list_1.pop(list_1.index(list_1[i]))\n",
    "                list_2.pop(list_2.index(list_1[i]))\n",
    "                print(list_1)\n",
    "                print(list_2)\n",
    "                print(\"--------\")\n",
    "        return(list_1)\n",
    "    "
   ]
  },
  {
   "cell_type": "code",
   "execution_count": null,
   "metadata": {},
   "outputs": [],
   "source": [
    "def value_check(list_1, list_2):\n",
    "    if len(list_1) > len(list_2):\n",
    "        for i in list_2:\n",
    "            for j in list_1:            \n",
    "                if i == j:\n",
    "                    list_1.pop(list_1.index(j))\n",
    "                else:\n",
    "                    pass\n",
    "        return(list_1[0])\n",
    "    elif len(list_1) < len(list_2):\n",
    "        for i in list_1:\n",
    "            for j in list_2:            \n",
    "                if i == j:\n",
    "                    list_2.pop(list_2.index(j))\n",
    "                else:\n",
    "                    pass\n",
    "        return(list_2[0])\n",
    "    \n",
    "    else:\n",
    "        print('Lists are same length')"
   ]
  },
  {
   "cell_type": "code",
   "execution_count": null,
   "metadata": {},
   "outputs": [],
   "source": [
    "class TestFinder(object):\n",
    "    \n",
    "    def test(self,sol):\n",
    "        assert_equal(sol([5,5,7,7],[5,7,7]),5)\n",
    "        assert_equal(sol([1,2,3,4,5,6,7],[3,7,2,1,4,6]),5)\n",
    "        assert_equal(sol([9,8,7,6,5,4,3,2,1],[9,8,7,5,4,3,2,1]),6)\n",
    "        print('ALL TEST CASES PASSED')\n",
    "\n",
    "# Run test\n",
    "t = TestFinder()\n",
    "t.test(value_check)"
   ]
  },
  {
   "cell_type": "markdown",
   "metadata": {},
   "source": [
    "## Largest Continuous Sum"
   ]
  },
  {
   "cell_type": "markdown",
   "metadata": {},
   "source": [
    "#### Find the largest consecutive sum from a list"
   ]
  },
  {
   "cell_type": "code",
   "execution_count": 17,
   "metadata": {},
   "outputs": [],
   "source": [
    "def consec_counter(provided_list):\n",
    "    \n",
    "    ## set max_sum and current_sum to the first value\n",
    "    max_sum = provided_list[0]\n",
    "    current_sum = provided_list[0]\n",
    "    \n",
    "    ## loop through the list\n",
    "    for i in provided_list[1:]:\n",
    "        \n",
    "        ## check to see if the new current sum is greater than the current value\n",
    "        current_sum = max(current_sum+i, i)\n",
    "        \n",
    "        ## check to see if the current sum > max sum\n",
    "        max_sum = max(current_sum, max_sum)\n",
    "        \n",
    "    return max_sum"
   ]
  },
  {
   "cell_type": "code",
   "execution_count": 18,
   "metadata": {},
   "outputs": [
    {
     "name": "stdout",
     "output_type": "stream",
     "text": [
      "ALL TEST CASES PASSED\n"
     ]
    }
   ],
   "source": [
    "class LargeContTest(object):\n",
    "    def test(self,sol):\n",
    "        assert_equal(sol([1,2,-1,3,4,-1]),9)\n",
    "        assert_equal(sol([1,2,-1,3,4,10,10,-10,-1]),29)\n",
    "        assert_equal(sol([1,2,-4,3,5,-1,3,4]),14)\n",
    "        assert_equal(sol([-1,1]),1)\n",
    "        print('ALL TEST CASES PASSED')\n",
    "        \n",
    "#Run Test\n",
    "t = LargeContTest()\n",
    "t.test(consec_counter)"
   ]
  },
  {
   "cell_type": "markdown",
   "metadata": {},
   "source": [
    "## Sentence Reversal"
   ]
  },
  {
   "cell_type": "markdown",
   "metadata": {},
   "source": [
    "#### Given a string of words, reverse all words. Remove any leading or trailing whitespace"
   ]
  },
  {
   "cell_type": "code",
   "execution_count": 171,
   "metadata": {},
   "outputs": [],
   "source": [
    "def phrase_reversal(test_string):\n",
    "\n",
    "    ## Step 1 - break the phrase into a list of words (word_list)\n",
    "    \n",
    "    word_list = []\n",
    "    curr_word = \"\"\n",
    "    \n",
    "    ## Building words by iterating through letters\n",
    "    ## If a space is found, end current word and append to word_list\n",
    "    for i in range(len(test_string)):\n",
    "        if i == len(test_string)-1:\n",
    "            curr_word = curr_word + test_string[i]\n",
    "            word_list.append(curr_word)\n",
    "        elif test_string[i] != ' ':\n",
    "            curr_word = curr_word + test_string[i]\n",
    "        else:\n",
    "            ## If the word is ending, check to see if the word has values before appending\n",
    "            if curr_word != '':\n",
    "                word_list.append(curr_word)\n",
    "                curr_word = ''\n",
    "            else:\n",
    "                curr_word = ''\n",
    "                \n",
    "    ## Reverse the word list (makes compiling the phrase easier)            \n",
    "    word_list = word_list[::-1]\n",
    "    current_phrase = \"\"\n",
    "    count = 0\n",
    "\n",
    "    \n",
    "    ## Create a current_phrase string, and append the first word from word_list\n",
    "    ## Each following word is built upon that, separated by spaces\n",
    "    for i in word_list:\n",
    "        if count == 0:\n",
    "            current_phrase = i\n",
    "            count = count + 1\n",
    "        else:\n",
    "            current_phrase = current_phrase + \" \" + i\n",
    "            count = count + 1\n",
    "\n",
    "    ## Return the current_phrase string, using the strip method \n",
    "    ## to remove leading/trailing whitespaces\n",
    "    return current_phrase.strip()"
   ]
  },
  {
   "cell_type": "code",
   "execution_count": 172,
   "metadata": {},
   "outputs": [
    {
     "name": "stdout",
     "output_type": "stream",
     "text": [
      "ALL TEST CASES PASSED\n"
     ]
    }
   ],
   "source": [
    "class ReversalTest(object):\n",
    "    \n",
    "    def test(self,sol):\n",
    "        assert_equal(sol('    space before'),'before space')\n",
    "        assert_equal(sol('space after     '),'after space')\n",
    "        assert_equal(sol('   Hello John    how are you   '),'you are how John Hello')\n",
    "        assert_equal(sol('1'),'1')\n",
    "        print (\"ALL TEST CASES PASSED\")\n",
    "        \n",
    "# Run and test\n",
    "t = ReversalTest()\n",
    "t.test(phrase_reversal)"
   ]
  },
  {
   "cell_type": "markdown",
   "metadata": {},
   "source": [
    "## String Compression"
   ]
  },
  {
   "cell_type": "markdown",
   "metadata": {},
   "source": [
    "#### Compress strings to include a character, then a number to represent the count of that character. Maintain case sensitivity."
   ]
  },
  {
   "cell_type": "code",
   "execution_count": null,
   "metadata": {},
   "outputs": [],
   "source": [
    "Given a string in the form 'AAAABBBBCCCCCDDEEEE' compress it to become 'A4B4C5D2E4'. For this problem, you can falsely \"compress\" strings of single or double letters. For instance, it is okay for 'AAB' to return 'A2B1' even though this technically takes more space.\n",
    "\n",
    "The function should also be case sensitive, so that a string 'AAAaaa' returns 'A3a3'."
   ]
  }
 ],
 "metadata": {
  "kernelspec": {
   "display_name": "Python 3",
   "language": "python",
   "name": "python3"
  },
  "language_info": {
   "codemirror_mode": {
    "name": "ipython",
    "version": 3
   },
   "file_extension": ".py",
   "mimetype": "text/x-python",
   "name": "python",
   "nbconvert_exporter": "python",
   "pygments_lexer": "ipython3",
   "version": "3.6.4"
  }
 },
 "nbformat": 4,
 "nbformat_minor": 2
}
