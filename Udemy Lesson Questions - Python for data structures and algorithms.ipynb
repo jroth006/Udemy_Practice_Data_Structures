{
 "cells": [
  {
   "cell_type": "code",
   "execution_count": 81,
   "metadata": {},
   "outputs": [],
   "source": [
    "from nose.tools import assert_equal"
   ]
  },
  {
   "cell_type": "markdown",
   "metadata": {},
   "source": [
    "## Anagram Check"
   ]
  },
  {
   "cell_type": "markdown",
   "metadata": {},
   "source": [
    "#### Pass two words and check if they are anagrams "
   ]
  },
  {
   "cell_type": "code",
   "execution_count": 82,
   "metadata": {},
   "outputs": [],
   "source": [
    "def anagram_check(word1, word2):\n",
    "\n",
    "    ## Standardize words by standardizing case and replacing spaces\n",
    "    word1 = word1.replace(\" \",\"\").lower()\n",
    "    word2 = word2.replace(\" \",\"\").lower()\n",
    "    \n",
    "    ## Create two list that contain each letter in a word\n",
    "    letter_list_1 = list([word1[i] for i in range(len(word1))])\n",
    "    letter_list_2 = list([word2[i] for i in range(len(word2))])\n",
    "    \n",
    "    ## If the amount of letters are not equal, exit loop\n",
    "    if len(letter_list_1) != len(letter_list_2):\n",
    "        return False\n",
    "    else:\n",
    "        for i in range(len(letter_list_1)):\n",
    "            ## If a letter from list 1 is found in list 2, remove element\n",
    "            if letter_list_1[i] in letter_list_2:\n",
    "                letter_list_2.pop(letter_list_2.index(letter_list_1[i]))\n",
    "            else:\n",
    "                return False\n",
    "                break\n",
    "                \n",
    "    ## If all letters are removed, return True\n",
    "    if len(letter_list_2) == 0:\n",
    "        return True\n",
    "            "
   ]
  },
  {
   "cell_type": "code",
   "execution_count": 83,
   "metadata": {},
   "outputs": [
    {
     "name": "stdout",
     "output_type": "stream",
     "text": [
      "ALL TEST CASES PASSED\n"
     ]
    }
   ],
   "source": [
    "class AnagramTest(object):\n",
    "    \n",
    "    def test(self,sol):\n",
    "        assert_equal(sol('go go go','gggooo'),True)\n",
    "        assert_equal(sol('abc','cba'),True)\n",
    "        assert_equal(sol('hi man','hi     man'),True)\n",
    "        assert_equal(sol('aabbcc','aabbc'),False)\n",
    "        assert_equal(sol('123','1 2'),False)\n",
    "        print('ALL TEST CASES PASSED')\n",
    "\n",
    "# Run Tests\n",
    "t = AnagramTest()\n",
    "t.test(anagram_check)"
   ]
  },
  {
   "cell_type": "markdown",
   "metadata": {},
   "source": [
    "## Array Pair Sum"
   ]
  },
  {
   "cell_type": "markdown",
   "metadata": {},
   "source": [
    "#### Create a function that finds all unique pairs that sum up to the provided number."
   ]
  },
  {
   "cell_type": "code",
   "execution_count": 84,
   "metadata": {},
   "outputs": [],
   "source": [
    "def array_pair(val_list, final_sum):\n",
    "    \n",
    "    unique_pairs = []\n",
    "    \n",
    "    ## For each value in the value_list, add to each other value to test if the pair \n",
    "    ## equals our final_sum variable. Matches are appended to our unique pair list.\n",
    "    \n",
    "    for i in range(len(val_list)):\n",
    "        for j in range(len(val_list)):\n",
    "            if i == j:\n",
    "                pass\n",
    "            elif val_list[i] + val_list[j] == final_sum:\n",
    "                ## Place the values in ascending order - this helps identify \n",
    "                ## that (1,3) is the same as (3,1) in the next loop.\n",
    "                if val_list[i] < val_list[j]:\n",
    "                    unique_pairs.append([val_list[i],val_list[j]])\n",
    "                else:\n",
    "                    unique_pairs.append([val_list[j],val_list[i]])\n",
    "    \n",
    "    ## For each element in unique_pairs, compare to each other value \n",
    "    ##in unique_pairs and remove duplicates\n",
    "                    \n",
    "    for i in unique_pairs:\n",
    "        for j in unique_pairs: \n",
    "            if i == j:\n",
    "                unique_pairs.remove(j)\n",
    "            else:\n",
    "                pass\n",
    "                   \n",
    "    return len(unique_pairs)"
   ]
  },
  {
   "cell_type": "code",
   "execution_count": 85,
   "metadata": {},
   "outputs": [
    {
     "name": "stdout",
     "output_type": "stream",
     "text": [
      "ALL TEST CASES PASSED\n"
     ]
    }
   ],
   "source": [
    "class TestPair(object):\n",
    "    \n",
    "    def test(self,sol):\n",
    "        assert_equal(sol([1,9,2,8,3,7,4,6,5,5,13,14,11,13,-1],10),6)\n",
    "        assert_equal(sol([1,2,3,1],3),1)\n",
    "        assert_equal(sol([1,3,2,2],4),2)\n",
    "        print('ALL TEST CASES PASSED')\n",
    "        \n",
    "#Run tests\n",
    "t = TestPair()\n",
    "t.test(array_pair)\n",
    "    "
   ]
  },
  {
   "cell_type": "markdown",
   "metadata": {},
   "source": [
    "## Missing Element Finder"
   ]
  },
  {
   "cell_type": "markdown",
   "metadata": {},
   "source": [
    "#### Compare two lists and find the missing element"
   ]
  },
  {
   "cell_type": "code",
   "execution_count": 86,
   "metadata": {},
   "outputs": [],
   "source": [
    "## Avoiding using the more simple set analysis: set(list_1) - set(list_2)\n",
    "\n",
    "def finder(list_1, list_2):\n",
    "    if len(list_1) > len(list_2):\n",
    "        print(list_1)\n",
    "        print(list_2)\n",
    "        print(\"--------\")\n",
    "        \n",
    "        for i in range(len(list_1)):\n",
    "            print(\"looking for \" + str(list_1[i]))\n",
    "            if list_1[i] in list_2:\n",
    "                print(\"removing value from list 1: \" + str(list_1.index(list_1[i])))\n",
    "                print(\"removing value from list 2: \" + str(list_2.index(list_1[i])))\n",
    "                list_1.pop(list_1.index(list_1[i]))\n",
    "                list_2.pop(list_2.index(list_1[i]))\n",
    "                print(list_1)\n",
    "                print(list_2)\n",
    "                print(\"--------\")\n",
    "        return(list_1)\n",
    "    "
   ]
  },
  {
   "cell_type": "code",
   "execution_count": 87,
   "metadata": {},
   "outputs": [],
   "source": [
    "def value_check(list_1, list_2):\n",
    "    if len(list_1) > len(list_2):\n",
    "        for i in list_2:\n",
    "            for j in list_1:            \n",
    "                if i == j:\n",
    "                    list_1.pop(list_1.index(j))\n",
    "                else:\n",
    "                    pass\n",
    "        return(list_1[0])\n",
    "    elif len(list_1) < len(list_2):\n",
    "        for i in list_1:\n",
    "            for j in list_2:            \n",
    "                if i == j:\n",
    "                    list_2.pop(list_2.index(j))\n",
    "                else:\n",
    "                    pass\n",
    "        return(list_2[0])\n",
    "    \n",
    "    else:\n",
    "        print('Lists are same length')"
   ]
  },
  {
   "cell_type": "code",
   "execution_count": 88,
   "metadata": {},
   "outputs": [
    {
     "name": "stdout",
     "output_type": "stream",
     "text": [
      "ALL TEST CASES PASSED\n"
     ]
    }
   ],
   "source": [
    "class TestFinder(object):\n",
    "    \n",
    "    def test(self,sol):\n",
    "        assert_equal(sol([5,5,7,7],[5,7,7]),5)\n",
    "        assert_equal(sol([1,2,3,4,5,6,7],[3,7,2,1,4,6]),5)\n",
    "        assert_equal(sol([9,8,7,6,5,4,3,2,1],[9,8,7,5,4,3,2,1]),6)\n",
    "        print('ALL TEST CASES PASSED')\n",
    "\n",
    "# Run test\n",
    "t = TestFinder()\n",
    "t.test(value_check)"
   ]
  },
  {
   "cell_type": "markdown",
   "metadata": {},
   "source": [
    "## Largest Continuous Sum"
   ]
  },
  {
   "cell_type": "markdown",
   "metadata": {},
   "source": [
    "#### Find the largest consecutive sum from a list"
   ]
  },
  {
   "cell_type": "code",
   "execution_count": 89,
   "metadata": {},
   "outputs": [],
   "source": [
    "def consec_counter(provided_list):\n",
    "    \n",
    "    ## set max_sum and current_sum to the first value\n",
    "    max_sum = provided_list[0]\n",
    "    current_sum = provided_list[0]\n",
    "    \n",
    "    ## loop through the list\n",
    "    for i in provided_list[1:]:\n",
    "        \n",
    "        ## check to see if the new current sum is greater than the current value\n",
    "        current_sum = max(current_sum+i, i)\n",
    "        \n",
    "        ## check to see if the current sum > max sum\n",
    "        max_sum = max(current_sum, max_sum)\n",
    "        \n",
    "    return max_sum"
   ]
  },
  {
   "cell_type": "code",
   "execution_count": 90,
   "metadata": {},
   "outputs": [
    {
     "name": "stdout",
     "output_type": "stream",
     "text": [
      "ALL TEST CASES PASSED\n"
     ]
    }
   ],
   "source": [
    "class LargeContTest(object):\n",
    "    def test(self,sol):\n",
    "        assert_equal(sol([1,2,-1,3,4,-1]),9)\n",
    "        assert_equal(sol([1,2,-1,3,4,10,10,-10,-1]),29)\n",
    "        assert_equal(sol([1,2,-4,3,5,-1,3,4]),14)\n",
    "        assert_equal(sol([-1,1]),1)\n",
    "        print('ALL TEST CASES PASSED')\n",
    "        \n",
    "#Run Test\n",
    "t = LargeContTest()\n",
    "t.test(consec_counter)"
   ]
  },
  {
   "cell_type": "markdown",
   "metadata": {},
   "source": [
    "## Sentence Reversal"
   ]
  },
  {
   "cell_type": "markdown",
   "metadata": {},
   "source": [
    "#### Given a string of words, reverse all words. Remove any leading or trailing whitespace"
   ]
  },
  {
   "cell_type": "code",
   "execution_count": 91,
   "metadata": {},
   "outputs": [],
   "source": [
    "def phrase_reversal(test_string):\n",
    "\n",
    "    ## Step 1 - break the phrase into a list of words (word_list)\n",
    "    \n",
    "    word_list = []\n",
    "    curr_word = \"\"\n",
    "    \n",
    "    ## Building words by iterating through letters\n",
    "    ## If a space is found, end current word and append to word_list\n",
    "    for i in range(len(test_string)):\n",
    "        if i == len(test_string)-1:\n",
    "            curr_word = curr_word + test_string[i]\n",
    "            word_list.append(curr_word)\n",
    "        elif test_string[i] != ' ':\n",
    "            curr_word = curr_word + test_string[i]\n",
    "        else:\n",
    "            ## If the word is ending, check to see if the word has values before appending\n",
    "            if curr_word != '':\n",
    "                word_list.append(curr_word)\n",
    "                curr_word = ''\n",
    "            else:\n",
    "                curr_word = ''\n",
    "                \n",
    "    ## Reverse the word list (makes compiling the phrase easier)            \n",
    "    word_list = word_list[::-1]\n",
    "    current_phrase = \"\"\n",
    "    count = 0\n",
    "\n",
    "    \n",
    "    ## Create a current_phrase string, and append the first word from word_list\n",
    "    ## Each following word is built upon that, separated by spaces\n",
    "    for i in word_list:\n",
    "        if count == 0:\n",
    "            current_phrase = i\n",
    "            count = count + 1\n",
    "        else:\n",
    "            current_phrase = current_phrase + \" \" + i\n",
    "            count = count + 1\n",
    "\n",
    "    ## Return the current_phrase string, using the strip method \n",
    "    ## to remove leading/trailing whitespaces\n",
    "    return current_phrase.strip()"
   ]
  },
  {
   "cell_type": "code",
   "execution_count": 92,
   "metadata": {},
   "outputs": [
    {
     "name": "stdout",
     "output_type": "stream",
     "text": [
      "ALL TEST CASES PASSED\n"
     ]
    }
   ],
   "source": [
    "class ReversalTest(object):\n",
    "    \n",
    "    def test(self,sol):\n",
    "        assert_equal(sol('    space before'),'before space')\n",
    "        assert_equal(sol('space after     '),'after space')\n",
    "        assert_equal(sol('   Hello John    how are you   '),'you are how John Hello')\n",
    "        assert_equal(sol('1'),'1')\n",
    "        print (\"ALL TEST CASES PASSED\")\n",
    "        \n",
    "# Run and test\n",
    "t = ReversalTest()\n",
    "t.test(phrase_reversal)"
   ]
  },
  {
   "cell_type": "markdown",
   "metadata": {},
   "source": [
    "## String Compression"
   ]
  },
  {
   "cell_type": "markdown",
   "metadata": {},
   "source": [
    "#### Compress strings to include a character, then a number to represent the count of that character. Maintain case sensitivity."
   ]
  },
  {
   "cell_type": "code",
   "execution_count": 93,
   "metadata": {},
   "outputs": [],
   "source": [
    "def string_compression (sample_string):\n",
    "    \n",
    "    ## Empty dictionary and string\n",
    "    compress_dict = {}\n",
    "    compress_string = ''\n",
    "\n",
    "    ## First for loop - creating a dictionary containing each unique letter and frequency count\n",
    "    for i in sample_string:\n",
    "        ## Create a new entry for new letters - set value to 1\n",
    "        if i not in compress_dict:\n",
    "            compress_dict.update({i:1})\n",
    "        ## Future occurences - pull current value from key, add 1, then add back to the dictionary\n",
    "        else:\n",
    "            new_value = int(compress_dict[i]) + 1\n",
    "            compress_dict.update({i:new_value})\n",
    "\n",
    "    ## Second for loop - after dictionary is constructed, begin to pull each key-value pair and add to our compress_string\n",
    "    for key in compress_dict:\n",
    "        ## First dictionary item starts our string\n",
    "        if compress_string == '':\n",
    "            compress_string = str(key) + str(compress_dict[key])\n",
    "        ## Each other entry is appended\n",
    "        else:\n",
    "            compress_string = compress_string + str(key) + str(compress_dict[key])\n",
    "            \n",
    "    return compress_string"
   ]
  },
  {
   "cell_type": "code",
   "execution_count": 94,
   "metadata": {},
   "outputs": [
    {
     "name": "stdout",
     "output_type": "stream",
     "text": [
      "ALL TEST CASES PASSED\n"
     ]
    }
   ],
   "source": [
    "class TestCompress(object):\n",
    "\n",
    "    def test(self, sol):\n",
    "        assert_equal(sol(''), '')\n",
    "        assert_equal(sol('AABBCC'), 'A2B2C2')\n",
    "        assert_equal(sol('AAABCCDDDDD'), 'A3B1C2D5')\n",
    "        print('ALL TEST CASES PASSED')\n",
    "\n",
    "# Run Tests\n",
    "t = TestCompress()\n",
    "t.test(string_compression)"
   ]
  },
  {
   "cell_type": "markdown",
   "metadata": {},
   "source": [
    "## Unique Characters in a String"
   ]
  },
  {
   "cell_type": "markdown",
   "metadata": {},
   "source": [
    "#### Given a string,determine if it is compreised of all unique characters. For example, the string 'abcde' has all unique characters and should return True. The string 'aabcde' contains duplicate characters and should return false."
   ]
  },
  {
   "cell_type": "code",
   "execution_count": 95,
   "metadata": {},
   "outputs": [],
   "source": [
    "def unique_val_check (provided_string):\n",
    "    \n",
    "    ## Empty list to store unique values\n",
    "    unique_val_list = []\n",
    "\n",
    "    for i in provided_string:\n",
    "        ## Append each new letter to unique_val_list, if not already listed\n",
    "        if i not in unique_val_list:\n",
    "            unique_val_list.append(i)\n",
    "        ## If current value is already in our list, return False\n",
    "        else:\n",
    "            return False\n",
    "    \n",
    "    ## If each value is unique, return True\n",
    "    return True"
   ]
  },
  {
   "cell_type": "code",
   "execution_count": 96,
   "metadata": {},
   "outputs": [
    {
     "name": "stdout",
     "output_type": "stream",
     "text": [
      "ALL TEST CASES PASSED\n"
     ]
    }
   ],
   "source": [
    "class TestUnique(object):\n",
    "\n",
    "    def test(self, sol):\n",
    "        assert_equal(sol(''), True)\n",
    "        assert_equal(sol('goo'), False)\n",
    "        assert_equal(sol('abcdefg'), True)\n",
    "        print('ALL TEST CASES PASSED')\n",
    "        \n",
    "# Run Tests\n",
    "t = TestUnique()\n",
    "t.test(unique_val_check)"
   ]
  },
  {
   "cell_type": "markdown",
   "metadata": {},
   "source": [
    "## Stacks, Queues and Deques"
   ]
  },
  {
   "cell_type": "markdown",
   "metadata": {},
   "source": [
    "#### Create functions for each type"
   ]
  },
  {
   "cell_type": "code",
   "execution_count": 97,
   "metadata": {},
   "outputs": [],
   "source": [
    "class stack_implement(object):\n",
    "    \n",
    "    ## Stack is last-in first-out (LIFO)\n",
    "    \n",
    "    ## Initiate the stack\n",
    "    def __init__(self):\n",
    "        self.item_list = []\n",
    "        \n",
    "    ## Check if the stack is empty\n",
    "    def empty_check(self):\n",
    "        return self.item_list == []\n",
    "    \n",
    "    ## Push a new item\n",
    "    def item_push(self, i):\n",
    "        self.item_list.append(i)\n",
    "        \n",
    "    ## Peek at the top item\n",
    "    def item_peek(self):\n",
    "        print(self.item_list.pop())\n",
    "        \n",
    "    ## Return the size\n",
    "    def item_size(self):\n",
    "        print(len(self.item_list))"
   ]
  },
  {
   "cell_type": "code",
   "execution_count": 98,
   "metadata": {},
   "outputs": [],
   "source": [
    "class queue_implement(object):\n",
    "    \n",
    "    ## Deck should be first-in, first-out (FIFO)\n",
    "    \n",
    "    def __init__(self):\n",
    "        self.item_list = []\n",
    "        \n",
    "    def empty_check(self):\n",
    "        return self.item_list == []\n",
    "    \n",
    "    def item_push(self, i):\n",
    "        self.item_list.append(i)\n",
    "        \n",
    "    def item_peek(self):\n",
    "        print(self.item_list.pop(0))\n",
    "        \n",
    "    def item_size(self):\n",
    "        print(len(self.item_list))"
   ]
  },
  {
   "cell_type": "code",
   "execution_count": 99,
   "metadata": {},
   "outputs": [],
   "source": [
    "class deque_implement(object):\n",
    "    \n",
    "    ## Deques work either way - add or remove from the front or the back\n",
    "    \n",
    "    def __init__(self):\n",
    "        self.item_list = []\n",
    "    \n",
    "    def empty_check(self):\n",
    "        return self.item_list == []\n",
    "    \n",
    "    def add_front(self, i):\n",
    "        self.item_list.insert(0,i)\n",
    "        \n",
    "    def add_back(self, i):\n",
    "        self.item_list.append(i)\n",
    "        \n",
    "    def pop_front(self):\n",
    "        print(self.item_list[0])\n",
    "        self.item_list.pop(0)\n",
    "        \n",
    "    def pop_back(self):\n",
    "        self.item_list.pop()\n",
    "        \n",
    "    def item_size(self):\n",
    "        print(len(self.item_list))"
   ]
  },
  {
   "cell_type": "markdown",
   "metadata": {},
   "source": [
    "#### Given a string of opening and closing parentheses, check whether it’s balanced. We have 3 types of parentheses: round brackets: (), square brackets: [], and curly brackets: {}. Assume that the string doesn’t contain any other character than these, no spaces words or numbers. As a reminder, balanced parentheses require every opening parenthesis to be closed in the reverse order opened. For example ‘([])’ is balanced but ‘([)]’ is not."
   ]
  },
  {
   "cell_type": "markdown",
   "metadata": {},
   "source": [
    "First Attempt: Would incorrectly pass if the brackets were uneven in certain ways, like '[(}}' - 1+3-2-2\n",
    "\n",
    "def balance_check(input_str):\n",
    "    \n",
    "    ## Assign inverse values to each type of bracket as a dictionary\n",
    "    brackets = {'[':1, ']':-1, '{':2, '}':-2, '(':3, ')':-3}\n",
    "    \n",
    "    ## Create a counter\n",
    "    count = 0\n",
    "    \n",
    "    ## For each element in the string, increment count based on the value of the bracket\n",
    "    for i in input_str:\n",
    "        count = count + brackets[i]\n",
    "    \n",
    "    ## If balanced, the count will be 0\n",
    "    return count == 0"
   ]
  },
  {
   "cell_type": "code",
   "execution_count": 100,
   "metadata": {},
   "outputs": [],
   "source": [
    "def balance_check(input_str):\n",
    "    \n",
    "    ## First check to see if the str has an even number of characters\n",
    "    if len(input_str) % 2 != 0:\n",
    "        return False\n",
    "    \n",
    "    ## Set up all opening brackets to match str against\n",
    "    opening_brackets = set('([{')\n",
    "    \n",
    "    ## Create tuples with all valid pairings\n",
    "    valid_pairs = set([('(',')'),('[',']'),('{','}')])\n",
    "    \n",
    "    ## Create list to store opening brackets\n",
    "    storage_stack = []\n",
    "    \n",
    "    ## Loop through the input to find all opening brackets, which are appended to storage_stack.\n",
    "    ## Then, begin pairing the next value in the input string with the last value in storage_stack,\n",
    "    ## comparing the tuple against our valid_pairs set. \n",
    "    for s in input_str:\n",
    "        \n",
    "        if s in opening_brackets:\n",
    "            storage_stack.append(s)\n",
    "            \n",
    "        else:\n",
    "            if len(storage_stack) == 0:\n",
    "                return False\n",
    "            \n",
    "            last_value = storage_stack.pop()\n",
    "            \n",
    "            if (last_value, s) not in valid_pairs:\n",
    "                return False\n",
    "            \n",
    "    return True"
   ]
  },
  {
   "cell_type": "code",
   "execution_count": 101,
   "metadata": {},
   "outputs": [
    {
     "name": "stdout",
     "output_type": "stream",
     "text": [
      "ALL TEST CASES PASSED\n"
     ]
    }
   ],
   "source": [
    "class TestBalanceCheck(object):\n",
    "    \n",
    "    def test(self,sol):\n",
    "        assert_equal(sol('[](){([[[]]])}('),False)\n",
    "        assert_equal(sol('[{{{(())}}}]((()))'),True)\n",
    "        assert_equal(sol('[[[]])]'),False)\n",
    "        print ('ALL TEST CASES PASSED')\n",
    "        \n",
    "# Run Tests\n",
    "\n",
    "t = TestBalanceCheck()\n",
    "t.test(balance_check)"
   ]
  },
  {
   "cell_type": "markdown",
   "metadata": {},
   "source": [
    "# Linked Lists"
   ]
  },
  {
   "cell_type": "code",
   "execution_count": 168,
   "metadata": {},
   "outputs": [],
   "source": [
    "class Node(object):\n",
    "    \n",
    "    def __init__(self, value):\n",
    "        \n",
    "        self.value = value\n",
    "        self.nextnode = None\n",
    "        \n",
    "def next_value(val):\n",
    "    try:\n",
    "        return val.nextnode.value\n",
    "    except:\n",
    "        return(\"Check that you have entered a valid non-tail node\")\n",
    "        "
   ]
  },
  {
   "cell_type": "code",
   "execution_count": 169,
   "metadata": {},
   "outputs": [],
   "source": [
    "a = Node(1)\n",
    "b = Node(2)\n",
    "c = Node(3)"
   ]
  },
  {
   "cell_type": "code",
   "execution_count": 170,
   "metadata": {},
   "outputs": [],
   "source": [
    "a.nextnode = b\n",
    "b.nextnode = c"
   ]
  },
  {
   "cell_type": "code",
   "execution_count": 172,
   "metadata": {},
   "outputs": [
    {
     "data": {
      "text/plain": [
       "3"
      ]
     },
     "execution_count": 172,
     "metadata": {},
     "output_type": "execute_result"
    }
   ],
   "source": [
    "next_value(b)"
   ]
  },
  {
   "cell_type": "code",
   "execution_count": null,
   "metadata": {},
   "outputs": [],
   "source": []
  }
 ],
 "metadata": {
  "kernelspec": {
   "display_name": "Python 3",
   "language": "python",
   "name": "python3"
  },
  "language_info": {
   "codemirror_mode": {
    "name": "ipython",
    "version": 3
   },
   "file_extension": ".py",
   "mimetype": "text/x-python",
   "name": "python",
   "nbconvert_exporter": "python",
   "pygments_lexer": "ipython3",
   "version": "3.7.4"
  }
 },
 "nbformat": 4,
 "nbformat_minor": 2
}
